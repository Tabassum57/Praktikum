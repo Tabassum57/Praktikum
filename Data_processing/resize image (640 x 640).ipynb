{
 "cells": [
  {
   "cell_type": "code",
   "execution_count": 4,
   "id": "9c738883",
   "metadata": {},
   "outputs": [
    {
     "name": "stdout",
     "output_type": "stream",
     "text": [
      "Requirement already satisfied: opencv-python in c:\\users\\hp\\anaconda3\\lib\\site-packages (4.8.0.76)\n",
      "Requirement already satisfied: numpy>=1.19.3 in c:\\users\\hp\\anaconda3\\lib\\site-packages (from opencv-python) (1.26.4)\n",
      "Note: you may need to restart the kernel to use updated packages.\n"
     ]
    },
    {
     "name": "stderr",
     "output_type": "stream",
     "text": [
      "WARNING: Ignoring invalid distribution -pencv-python-headless (c:\\users\\hp\\anaconda3\\lib\\site-packages)\n",
      "WARNING: Ignoring invalid distribution -ensorflow-intel (c:\\users\\hp\\anaconda3\\lib\\site-packages)\n",
      "WARNING: Ignoring invalid distribution -pencv-python-headless (c:\\users\\hp\\anaconda3\\lib\\site-packages)\n",
      "WARNING: Ignoring invalid distribution -ensorflow-intel (c:\\users\\hp\\anaconda3\\lib\\site-packages)\n",
      "WARNING: Ignoring invalid distribution -pencv-python-headless (c:\\users\\hp\\anaconda3\\lib\\site-packages)\n",
      "WARNING: Ignoring invalid distribution -ensorflow-intel (c:\\users\\hp\\anaconda3\\lib\\site-packages)\n",
      "WARNING: Ignoring invalid distribution -pencv-python-headless (c:\\users\\hp\\anaconda3\\lib\\site-packages)\n",
      "WARNING: Ignoring invalid distribution -ensorflow-intel (c:\\users\\hp\\anaconda3\\lib\\site-packages)\n",
      "WARNING: Ignoring invalid distribution -pencv-python-headless (c:\\users\\hp\\anaconda3\\lib\\site-packages)\n",
      "WARNING: Ignoring invalid distribution -ensorflow-intel (c:\\users\\hp\\anaconda3\\lib\\site-packages)\n",
      "WARNING: Ignoring invalid distribution -pencv-python-headless (c:\\users\\hp\\anaconda3\\lib\\site-packages)\n",
      "WARNING: Ignoring invalid distribution -ensorflow-intel (c:\\users\\hp\\anaconda3\\lib\\site-packages)\n"
     ]
    }
   ],
   "source": [
    "pip install opencv-python"
   ]
  },
  {
   "cell_type": "code",
   "execution_count": 8,
   "id": "07549a14",
   "metadata": {},
   "outputs": [],
   "source": [
    "import os\n",
    "import cv2\n",
    "\n",
    "# Directory where images are stored\n",
    "input_directory = r\"C:\\Users\\hp\\Documents\\file\\pn\"\n",
    "# Directory where resized images will be saved\n",
    "output_directory = r\"C:\\Users\\hp\\Documents\\file\\pl\"\n",
    "\n",
    "def list_images_in_directory(directory):\n",
    "    try:\n",
    "        files = os.listdir(directory)\n",
    "        image_files = [file for file in files if file.endswith(('.png', '.jpg', '.jpeg'))]\n",
    "        if not image_files:\n",
    "            print(f\"No image files found in {directory}.\")\n",
    "        return image_files\n",
    "    except FileNotFoundError:\n",
    "        print(f\"Error: Directory {directory} does not exist.\")\n",
    "    except PermissionError:\n",
    "        print(f\"Error: Insufficient permissions to access {directory}.\")\n",
    "    return []\n",
    "\n",
    "def resize_image_to_fixed_dimensions(input_path, output_path, width=640, height=640):\n",
    "    # Read the input image\n",
    "    img = cv2.imread(input_path, cv2.IMREAD_UNCHANGED)\n",
    "    \n",
    "    # Check if the image was successfully read\n",
    "    if img is None:\n",
    "        print(f\"Error: Could not open or find the image at {input_path}.\")\n",
    "        return\n",
    "    \n",
    "    # Set the desired dimensions\n",
    "    dimensions = (width, height)\n",
    "    \n",
    "    # Resize the image to the specified dimensions\n",
    "    resized_img = cv2.resize(img, dimensions, interpolation=cv2.INTER_AREA)\n",
    "    \n",
    "    # Save the resized image\n",
    "    cv2.imwrite(output_path, resized_img)\n",
    "\n",
    "# List images in the directory\n",
    "image_files = list_images_in_directory(input_directory)\n",
    "\n",
    "# Resize each image to 640x640 and save it to the output directory\n",
    "if image_files:\n",
    "    for image_file in image_files:\n",
    "        input_image_path = os.path.join(input_directory, image_file)\n",
    "        output_image_path = os.path.join(output_directory, image_file)\n",
    "        \n",
    "        # Resize the image to 640x640\n",
    "        resize_image_to_fixed_dimensions(input_image_path, output_image_path, width=640, height=640)\n",
    "else:\n",
    "    print(\"No images found in the directory.\")"
   ]
  },
  {
   "cell_type": "code",
   "execution_count": null,
   "id": "4541f560",
   "metadata": {},
   "outputs": [],
   "source": []
  }
 ],
 "metadata": {
  "kernelspec": {
   "display_name": "Python 3 (ipykernel)",
   "language": "python",
   "name": "python3"
  },
  "language_info": {
   "codemirror_mode": {
    "name": "ipython",
    "version": 3
   },
   "file_extension": ".py",
   "mimetype": "text/x-python",
   "name": "python",
   "nbconvert_exporter": "python",
   "pygments_lexer": "ipython3",
   "version": "3.9.12"
  }
 },
 "nbformat": 4,
 "nbformat_minor": 5
}
